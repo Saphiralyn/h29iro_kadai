{
 "cells": [
  {
   "cell_type": "code",
   "execution_count": 54,
   "metadata": {
    "collapsed": false
   },
   "outputs": [
    {
     "name": "stdout",
     "output_type": "stream",
     "text": [
      "DCG_3= 2.5\n",
      "DCG_3k= 4.130929753571458\n",
      "nDCG= 0.6051906348295047\n",
      "---------------------------------\n",
      "ERR_3= 0.4375\n",
      "ERR_3k= 0.796875\n",
      "nERR_3= 0.5490196078431373\n"
     ]
    }
   ],
   "source": [
    "#必須課題 （１） 動作の確認\n",
    "#定義に従ってMSnDCG@0003とnERR@0003を計算する。\n",
    "\n",
    "import math\n",
    "\n",
    "DCG_3k = 3.0/math.log2(1+1) + 1.0/math.log2(1+2) + 1.0/math.log2(1+3)\n",
    "DCG_3 = 1.0/math.log2(1+1) + 0.0/math.log2(1+2) + 3.0/math.log2(1+3)\n",
    "\n",
    "print (\"DCG_3= %s\" % DCG_3)\n",
    "print (\"DCG_3k= %s\" % DCG_3k)\n",
    "print (\"nDCG= %s\" % (DCG_3/ DCG_3k))\n",
    "\n",
    "print (\"---------------------------------\")\n",
    "ERR_3k = 3/4 * 1 + 1/4 * 1/4 *1/2 + 1/4 * 1/4 * 3/4 * 1/3\n",
    "ERR_3 = 1/4 * 1 + 0 *(1- 1/4) + 9/16*1/3\n",
    "\n",
    "print (\"ERR_3= %s\" % ERR_3)\n",
    "print (\"ERR_3k= %s\" % ERR_3k)\n",
    "print (\"nERR_3= %s\" % (ERR_3 / ERR_3k))\n",
    "\n",
    "#定義に従ってMSnDCG@0003とnERR@0003を計算した結果、\n",
    "#一致している。\n"
   ]
  },
  {
   "cell_type": "code",
   "execution_count": 57,
   "metadata": {
    "collapsed": false
   },
   "outputs": [],
   "source": [
    "#必須課題（２）独自データに対する評価指標の計算\n",
    "#演習課題1で扱った検索課題集合と検索結果に対して\n",
    "#各自で評価用データを作成しpyNTCIREVALを用いて評価指標を計算せよ．\n",
    "#そして， MRR，nDCG@3およびnERR@3の平均を報告し，それらの値の違いが各指標のどういった要因によるものか考察せよ．\n",
    "#なお，演習課題1で扱ったコーパス以外で評価データを作成してもい．ただし，評価データはダミーデータでなく実際の何らかのランキングを評価したものとし，\n",
    "#検索課題（クエリ）は3つ以上とする．\n",
    "#MEMO: （上位３、５件、適当にランクを手動でつける）（MRRに関して：単純にRRの平均を取ればよい。）\n",
    "\n",
    "#課題１で出力した検索結果：\n",
    "\n",
    "# q1 = {\"甘味\",\"京都\"}\n",
    "\n",
    "# sim(q, d72) =  0.294066348707\n",
    "# sim(q, d80) =  0.158338365131\n",
    "# sim(q, d10) =  7.01365073488e-05\n",
    "\n",
    "# q2 = {\"京都\",\"紅葉\"}\n",
    "# sim(q, d33) =  0.409812450021\n",
    "# sim(q, d14) =  0.1714545954\n",
    "# sim(q, d25) =  0.108972981147\n",
    "\n",
    "# q3 = q = {\"京都\",\"お寺\"}\n",
    "# sim(q, d25) =  0.39156639892\n",
    "# sim(q, d44) =  0.194043453241\n",
    "# sim(q, d4) =  0.136162048311\n",
    "\n",
    "\n"
   ]
  },
  {
   "cell_type": "code",
   "execution_count": 68,
   "metadata": {
    "collapsed": false
   },
   "outputs": [
    {
     "name": "stdout",
     "output_type": "stream",
     "text": [
      " # syslen=3 jrel=6 jnonrel=0\r\n",
      " # r1=1 rp=1\r\n",
      " RR=                 1.0000\r\n",
      " OMeasure=           1.0000\r\n",
      " PMeasure=           1.0000\r\n",
      " PPlusMeasure=       1.0000\r\n",
      " AP=                 0.5000\r\n",
      " QMeasure=           0.4833\r\n",
      " NCUguP=             0.7500\r\n",
      " NCUguBR=            0.7450\r\n",
      " NCUrbP=             0.5384\r\n",
      " NCUrbBR=            0.5214\r\n",
      " RBP=                0.1039\r\n",
      " ERR=                0.9303\r\n",
      " AP@0003=            1.0000\r\n",
      " QMeasure@0003=      0.9667\r\n",
      " nDCG@0003=          0.9206\r\n",
      " MSnDCG@0003=        0.9226\r\n",
      " Precision@0003=     1.0000\r\n",
      " nERR@0003=          0.9986\r\n",
      " Hit@0003=           1.0000\r\n"
     ]
    }
   ],
   "source": [
    "!pyNTCIREVAL compute -r ../data/kadai2/q1.rel -g 1:3:7 --cutoffs=3　< ../data/kadai2/method1.q1.rel"
   ]
  },
  {
   "cell_type": "code",
   "execution_count": 69,
   "metadata": {
    "collapsed": false
   },
   "outputs": [
    {
     "name": "stdout",
     "output_type": "stream",
     "text": [
      " # syslen=3 jrel=4 jnonrel=2\r\n",
      " # r1=1 rp=1\r\n",
      " RR=                 1.0000\r\n",
      " OMeasure=           1.0000\r\n",
      " PMeasure=           1.0000\r\n",
      " PPlusMeasure=       1.0000\r\n",
      " AP=                 0.7500\r\n",
      " QMeasure=           0.7083\r\n",
      " NCUguP=             0.9167\r\n",
      " NCUguBR=            0.9028\r\n",
      " NCUrbP=             0.7689\r\n",
      " NCUrbBR=            0.7262\r\n",
      " RBP=                0.0761\r\n",
      " ERR=                0.8965\r\n",
      " AP@0003=            1.0000\r\n",
      " QMeasure@0003=      0.9444\r\n",
      " nDCG@0003=          0.9306\r\n",
      " MSnDCG@0003=        0.9721\r\n",
      " Precision@0003=     1.0000\r\n",
      " nERR@0003=          0.9942\r\n",
      " Hit@0003=           1.0000\r\n"
     ]
    }
   ],
   "source": [
    "!pyNTCIREVAL compute -r ../data/kadai2/q2.rel -g 1:3:7 --cutoffs=3　< ../data/kadai2/method1.q2.rel"
   ]
  },
  {
   "cell_type": "code",
   "execution_count": 76,
   "metadata": {
    "collapsed": false
   },
   "outputs": [
    {
     "name": "stdout",
     "output_type": "stream",
     "text": [
      " # syslen=3 jrel=4 jnonrel=2\r\n",
      " # r1=2 rp=2\r\n",
      " RR=                 0.5000\r\n",
      " OMeasure=           0.3333\r\n",
      " PMeasure=           0.3333\r\n",
      " PPlusMeasure=       0.3333\r\n",
      " AP=                 0.1250\r\n",
      " QMeasure=           0.0833\r\n",
      " NCUguP=             0.0833\r\n",
      " NCUguBR=            0.0556\r\n",
      " NCUrbP=             0.1348\r\n",
      " NCUrbBR=            0.0899\r\n",
      " RBP=                0.0068\r\n",
      " ERR=                0.0625\r\n",
      " AP@0003=            0.1667\r\n",
      " QMeasure@0003=      0.1111\r\n",
      " nDCG@0003=          0.2159\r\n",
      " MSnDCG@0003=        0.1527\r\n",
      " Precision@0003=     0.3333\r\n",
      " nERR@0003=          0.1431\r\n",
      " Hit@0003=           1.0000\r\n"
     ]
    }
   ],
   "source": [
    "!pyNTCIREVAL compute -r ../data/kadai2/q3.rel -g 1:3:7 --cutoffs=3　< ../data/kadai2/method1.q3.rel"
   ]
  },
  {
   "cell_type": "code",
   "execution_count": 81,
   "metadata": {
    "collapsed": false
   },
   "outputs": [
    {
     "name": "stdout",
     "output_type": "stream",
     "text": [
      "MRR_avg= 0.8333333333333333\n",
      "nDCG= 0.6824666666666667\n",
      "nERR= 0.7119666666666666\n"
     ]
    }
   ],
   "source": [
    "#MRR，nDCG@3およびnERR@3の平均を報告：\n",
    "MRR_avg = 1/3*(1+1+0.5)\n",
    "nDCG = 1/3*(0.1527 +  0.9721+ 0.9226)\n",
    "nERR = 1/3 *(0.1431 + 0.9942 + 0.9986)\n",
    "\n",
    "print (\"MRR_avg= %s\" % MRR_avg)\n",
    "print (\"nDCG= %s\" % nDCG)\n",
    "print (\"nERR= %s\" % nERR)\n",
    "\n"
   ]
  },
  {
   "cell_type": "code",
   "execution_count": 83,
   "metadata": {
    "collapsed": true
   },
   "outputs": [],
   "source": [
    "#考察：\n",
    "#MRRに関しては、q1とq2が一位になっている検索結果が正解なので、両方とも１。\n",
    "#q3に関しては、一位の結果がハズレで、二位の結果が最上位適合文書なので、 1/2になる。\n",
    "#全体的には0.8333になる。\n",
    "\n",
    "#nDCGに関しては、q1とq2が割と良い結果を出していますが、\n",
    "#q3に関しては一位になった検索結果がハズレなので、低い評価がされました。\n",
    "\n",
    "#nERRに関しても同じく、q1とq2が割と良い結果を出していますが、\n",
    "#q3に関しては一位になった検索結果がハズレなので、低い評価がされました。\n",
    "#ちょっと違うのはnERRでは,q1とq2の評価が極めて高く、q3がもっと低い。\n",
    "#これは、nERRの性質と関係があり、下位の適合文書が評価値に与える影響が小さいからです。\n",
    "\n"
   ]
  },
  {
   "cell_type": "code",
   "execution_count": null,
   "metadata": {
    "collapsed": true
   },
   "outputs": [],
   "source": []
  }
 ],
 "metadata": {
  "kernelspec": {
   "display_name": "Python 3",
   "language": "python",
   "name": "python3"
  },
  "language_info": {
   "codemirror_mode": {
    "name": "ipython",
    "version": 3
   },
   "file_extension": ".py",
   "mimetype": "text/x-python",
   "name": "python",
   "nbconvert_exporter": "python",
   "pygments_lexer": "ipython3",
   "version": "3.5.4"
  }
 },
 "nbformat": 4,
 "nbformat_minor": 0
}
