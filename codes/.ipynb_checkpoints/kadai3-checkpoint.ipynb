{
 "cells": [
  {
   "cell_type": "code",
   "execution_count": 13,
   "metadata": {
    "collapsed": false
   },
   "outputs": [
    {
     "name": "stdout",
     "output_type": "stream",
     "text": [
      "[ 0.19  0.35  0.28  0.06  0.07  0.05]\n",
      "[ 0.19  0.35  0.28  0.06  0.07  0.05]\n",
      "[ 0.19  0.35  0.28  0.06  0.07  0.05]\n"
     ]
    }
   ],
   "source": [
    "#課題３-1\n",
    "#必須課題（１）PageRankアルゴリズムの確認\n",
    "#講義資料「リンク解析（１）」p12のグラフに対して，遷移確率行列が確率行列の性質を満たすよう修正し， \n",
    "#べき乗法に基づくPageRankの計算を適用し，結果を報告せよ．\n",
    "#ただし，d=0.85とする．また，さまざまな初期状態分布に対してPageRank値を求めることで，\n",
    "#異なる初期状態分布に対して同じPageRank値が得られることを確認せよ．\n",
    "\n",
    "\n",
    "#回答：\n",
    "import numpy as np\n",
    "import numpy.linalg as lg\n",
    "import networkx as nx\n",
    "import matplotlib.pyplot as plt\n",
    "\n",
    "%matplotlib inline\n",
    "%precision 2\n",
    "\n",
    "def pagerank(A, p, d = 0.85, eps = 1e-6):\n",
    "    \"\"\"\n",
    "      A: 遷移確率行列\n",
    "      d: damping factor\n",
    "      eps: 誤差（eps以下になれば終了）\n",
    "    \"\"\"\n",
    "    n = A.shape[0]  #ページ数n\n",
    "    e =  np.ones(A.shape[0]) #要素が1のn次元ベクトル\n",
    "    #p = e / n #PageRankベクトルの初期化（初期状態分布）\n",
    "    while True: # while Trueとしているが，実際には一定回数以上ループを繰り返すとアルゴリズムを終了するような設計がよい\n",
    "        p_next = d * np.dot(A.T, p) + (1.0 - d) * e / n # PageRankベクトルの更新\n",
    "        if lg.norm(p_next - p, ord=1) <= eps: #差のL1ノルムがeps以下になれば，終了\n",
    "            p = p_next\n",
    "            break\n",
    "        p = p_next\n",
    "    return p\n",
    "\n",
    "#遷移確率行列が確率行列の性質を満たすように、以下のように修正した。\n",
    "A = np.array([\n",
    "    [0, 1/2, 1/2,0, 0, 0],\n",
    "    [1/2, 0, 1/2, 0, 0,0],\n",
    "    [0, 1, 0, 0, 0, 0],\n",
    "    [0, 0, 1/3, 0, 1/3, 1/3],\n",
    "    [1/6, 1/6, 1/6, 1/6, 1/6, 1/6],\n",
    "    [0, 0, 0, 1/2, 1/2, 0]\n",
    "])\n",
    "\n",
    "#違う初期状態を用意しました。\n",
    "init_p1 = np.array([1/3,1/6,1/6,1/6,1/12,1/12])\n",
    "init_p2 = np.array([1/6,1/6,1/6,1/6,1/6,1/6])\n",
    "init_p3 = np.array([1/4,1/4,1/4,1/8,1/16,1/16])\n",
    "\n",
    "\n",
    "p1 = pagerank(A,init_p1, d = 0.85, eps=1e-6)\n",
    "p2 = pagerank(A,init_p2, d = 0.85, eps=1e-6)\n",
    "p3 = pagerank(A,init_p3, d = 0.85, eps=1e-6)\n",
    "\n",
    "\n",
    "print (p1)\n",
    "print (p2)\n",
    "print (p3)\n",
    "#異なる初期状態分布に対して同じPageRank値が得られることを確認できました。"
   ]
  },
  {
   "cell_type": "code",
   "execution_count": 44,
   "metadata": {
    "collapsed": false
   },
   "outputs": [
    {
     "data": {
      "image/png": "[encoded data removed]",
      "text/plain": [
       "<matplotlib.figure.Figure at 0x114fa1978>"
      ]
     },
     "metadata": {},
     "output_type": "display_data"
    },
    {
     "ename": "KeyboardInterrupt",
     "evalue": "",
     "output_type": "error",
     "traceback": [
      "\u001b[0;31m---------------------------------------------------------------------------\u001b[0m",
      "\u001b[0;31mKeyboardInterrupt\u001b[0m                         Traceback (most recent call last)",
      "\u001b[0;32m<ipython-input-44-8be76272f3f9>\u001b[0m in \u001b[0;36m<module>\u001b[0;34m()\u001b[0m\n\u001b[1;32m     54\u001b[0m \u001b[0mplt\u001b[0m\u001b[0;34m.\u001b[0m\u001b[0mshow\u001b[0m\u001b[0;34m(\u001b[0m\u001b[0;34m)\u001b[0m\u001b[0;34m\u001b[0m\u001b[0m\n\u001b[1;32m     55\u001b[0m \u001b[0;34m\u001b[0m\u001b[0m\n\u001b[0;32m---> 56\u001b[0;31m \u001b[0mp1\u001b[0m \u001b[0;34m=\u001b[0m \u001b[0mpagerank\u001b[0m\u001b[0;34m(\u001b[0m\u001b[0mA\u001b[0m\u001b[0;34m,\u001b[0m\u001b[0minit_p1\u001b[0m\u001b[0;34m,\u001b[0m \u001b[0md\u001b[0m \u001b[0;34m=\u001b[0m \u001b[0;36m0.85\u001b[0m\u001b[0;34m,\u001b[0m \u001b[0meps\u001b[0m\u001b[0;34m=\u001b[0m\u001b[0;36m1e-6\u001b[0m\u001b[0;34m)\u001b[0m\u001b[0;34m\u001b[0m\u001b[0m\n\u001b[0m\u001b[1;32m     57\u001b[0m \u001b[0mp2\u001b[0m \u001b[0;34m=\u001b[0m \u001b[0mpagerank\u001b[0m\u001b[0;34m(\u001b[0m\u001b[0mA\u001b[0m\u001b[0;34m,\u001b[0m\u001b[0minit_p2\u001b[0m\u001b[0;34m,\u001b[0m \u001b[0md\u001b[0m \u001b[0;34m=\u001b[0m \u001b[0;36m0.85\u001b[0m\u001b[0;34m,\u001b[0m \u001b[0meps\u001b[0m\u001b[0;34m=\u001b[0m\u001b[0;36m1e-6\u001b[0m\u001b[0;34m)\u001b[0m\u001b[0;34m\u001b[0m\u001b[0m\n\u001b[1;32m     58\u001b[0m \u001b[0mp3\u001b[0m \u001b[0;34m=\u001b[0m \u001b[0mpagerank\u001b[0m\u001b[0;34m(\u001b[0m\u001b[0mA\u001b[0m\u001b[0;34m,\u001b[0m\u001b[0minit_p3\u001b[0m\u001b[0;34m,\u001b[0m \u001b[0md\u001b[0m \u001b[0;34m=\u001b[0m \u001b[0;36m0.85\u001b[0m\u001b[0;34m,\u001b[0m \u001b[0meps\u001b[0m\u001b[0;34m=\u001b[0m\u001b[0;36m1e-6\u001b[0m\u001b[0;34m)\u001b[0m\u001b[0;34m\u001b[0m\u001b[0m\n",
      "\u001b[0;32m<ipython-input-44-8be76272f3f9>\u001b[0m in \u001b[0;36mpagerank\u001b[0;34m(A, p, d, eps)\u001b[0m\n\u001b[1;32m     27\u001b[0m     \u001b[0;31m#p = e / n #PageRankベクトルの初期化（初期状態分布）\u001b[0m\u001b[0;34m\u001b[0m\u001b[0;34m\u001b[0m\u001b[0m\n\u001b[1;32m     28\u001b[0m     \u001b[0;32mwhile\u001b[0m \u001b[0;32mTrue\u001b[0m\u001b[0;34m:\u001b[0m \u001b[0;31m# while Trueとしているが，実際には一定回数以上ループを繰り返すとアルゴリズムを終了するような設計がよい\u001b[0m\u001b[0;34m\u001b[0m\u001b[0m\n\u001b[0;32m---> 29\u001b[0;31m         \u001b[0mp_next\u001b[0m \u001b[0;34m=\u001b[0m  \u001b[0mnp\u001b[0m\u001b[0;34m.\u001b[0m\u001b[0mdot\u001b[0m\u001b[0;34m(\u001b[0m\u001b[0mA\u001b[0m\u001b[0;34m.\u001b[0m\u001b[0mT\u001b[0m\u001b[0;34m,\u001b[0m \u001b[0mp\u001b[0m\u001b[0;34m)\u001b[0m  \u001b[0;31m# PageRankベクトルの更新\u001b[0m\u001b[0;34m\u001b[0m\u001b[0m\n\u001b[0m\u001b[1;32m     30\u001b[0m         \u001b[0;32mif\u001b[0m \u001b[0mlg\u001b[0m\u001b[0;34m.\u001b[0m\u001b[0mnorm\u001b[0m\u001b[0;34m(\u001b[0m\u001b[0mp_next\u001b[0m \u001b[0;34m-\u001b[0m \u001b[0mp\u001b[0m\u001b[0;34m,\u001b[0m \u001b[0mord\u001b[0m\u001b[0;34m=\u001b[0m\u001b[0;36m1\u001b[0m\u001b[0;34m)\u001b[0m \u001b[0;34m<=\u001b[0m \u001b[0meps\u001b[0m\u001b[0;34m:\u001b[0m \u001b[0;31m#差のL1ノルムがeps以下になれば，終了\u001b[0m\u001b[0;34m\u001b[0m\u001b[0m\n\u001b[1;32m     31\u001b[0m             \u001b[0mp\u001b[0m \u001b[0;34m=\u001b[0m \u001b[0mp_next\u001b[0m\u001b[0;34m\u001b[0m\u001b[0m\n",
      "\u001b[0;31mKeyboardInterrupt\u001b[0m: "
     ]
    }
   ],
   "source": [
    "#課題３-2\n",
    "#講義で述べたように，マルコフ連鎖が一意の定常分布 π を持つためには，そのマルコフ連鎖は既約かつ非周期的である必要がある．\n",
    "#そこで，「既約ではあるが非周期的でないマルコフ連鎖」であるようなウェブグラフGを用意し，\n",
    "#Gに対してテレポーテーションを用いない単純なPageRankアルゴリズム（すなわち，p=ATp）に基づくべき乗法を適用することで，\n",
    "#初期状態分布によってはPageRankベクトルが収束しない場合があることを確認せよ．\n",
    "#用意したウェブグラフGをNetworkXで可視化すること\n",
    "#用意したウェブグラフGは，講義で使用した例とは異なる例を用いること\n",
    "\n",
    "\n",
    "#回答：\n",
    "import numpy as np\n",
    "import numpy.linalg as lg\n",
    "import networkx as nx\n",
    "import matplotlib.pyplot as plt\n",
    "\n",
    "%matplotlib inline\n",
    "%precision 2\n",
    "\n",
    "def pagerank(A, p, d = 0.85, eps = 1e-6):\n",
    "    \"\"\"\n",
    "      A: 遷移確率行列\n",
    "      d: damping factor\n",
    "      eps: 誤差（eps以下になれば終了）\n",
    "    \"\"\"\n",
    "    n = A.shape[0]  #ページ数n\n",
    "    e =  np.ones(A.shape[0]) #要素が1のn次元ベクトル\n",
    "    #p = e / n #PageRankベクトルの初期化（初期状態分布）\n",
    "    while True: # while Trueとしているが，実際には一定回数以上ループを繰り返すとアルゴリズムを終了するような設計がよい\n",
    "        p_next =  np.dot(A.T, p)  # PageRankベクトルの更新\n",
    "        if lg.norm(p_next - p, ord=1) <= eps: #差のL1ノルムがeps以下になれば，終了\n",
    "            p = p_next\n",
    "            break\n",
    "        p = p_next\n",
    "    print (p) \n",
    "    return p\n",
    "\n",
    "\n",
    "#「既約ではあるが非周期的でないマルコフ連鎖」であるようなグラフ：\n",
    "A = np.array([\n",
    "    [0, 1, 0, 0],\n",
    "    [0, 0, 1/2, 1/2],\n",
    "    [1, 0, 0, 0], \n",
    "    [1, 0, 0, 0]\n",
    "])\n",
    "\n",
    "init_p1 = np.array([1/8, 1/8, 1/8, 5/8])\n",
    "init_p2 = np.array([1/4, 1/4, 1/4,1/4])\n",
    "init_p3 = np.array([1, 0, 0, 0])\n",
    "\n",
    "G = nx.DiGraph()\n",
    "G.add_nodes_from([1,2,3,4,])\n",
    "G.add_edges_from([(1,2),(2,3),(3,1),(2,4),(4,1)])\n",
    "\n",
    "pos = nx.spring_layout(G) # ばねモデルに基づくグラフのレイアウト\n",
    "nx.draw(G, pos, with_labels=True, node_size=500, node_color=\"w\")\n",
    "plt.show()\n",
    "\n",
    "p1 = pagerank(A,init_p1, d = 0.85, eps=1e-6)\n",
    "p2 = pagerank(A,init_p2, d = 0.85, eps=1e-6)\n",
    "p3 = pagerank(A,init_p3, d = 0.85, eps=1e-6)\n",
    "\n",
    "#こちらのグラフでは、ページランクの計算が終わりません。\n",
    "#よって、収束しないと判断できる"
   ]
  },
  {
   "cell_type": "code",
   "execution_count": null,
   "metadata": {
    "collapsed": true
   },
   "outputs": [],
   "source": []
  },
  {
   "cell_type": "code",
   "execution_count": 91,
   "metadata": {
    "collapsed": false,
    "scrolled": true
   },
   "outputs": [
    {
     "name": "stdout",
     "output_type": "stream",
     "text": [
      "Reading training examples...done\n",
      "Training set properties: 5 features, 3 rankings, 12 examples\n",
      "NOTE: Adjusted stopping criterion relative to maximum loss: eps=0.004667\n",
      "Iter 1: ...*(NumConst=1, SV=1, CEps=4.6667, QPEps=0.0000)\n",
      "Iter 2: ...*(NumConst=2, SV=1, CEps=4.2166, QPEps=0.0000)\n",
      "Iter 3: ...(NumConst=2, SV=1, CEps=0.0000, QPEps=0.0000)\n",
      "Final epsilon on KKT-Conditions: 0.00000\n",
      "Upper bound on duality gap: -0.00000\n",
      "Dual objective value: dval=0.13325\n",
      "Primal objective value: pval=0.13325\n",
      "Total number of constraints in final working set: 2 (of 2)\n",
      "Number of iterations: 3\n",
      "Number of calls to 'find_most_violated_constraint': 9\n",
      "Number of SV: 1 \n",
      "Norm of weight vector: |w|=0.11619\n",
      "Value of slack variable (on working set): xi=4.21663\n",
      "Value of slack variable (global): xi=4.21663\n",
      "Norm of longest difference vector: ||Psi(x,y)-Psi(x,ybar)||=3.87313\n",
      "Runtime in cpu-seconds: 0.00\n",
      "Compacting linear model...done\n",
      "Writing learned model...done\n",
      "Reading model...done.\n",
      "Reading test examples...done.\n",
      "Classifying test examples...done\n",
      "Runtime (without IO) in cpu-seconds: 0.00\n",
      "Average loss on test set: 0.0000\n",
      "Zero/one-error on test set: 0.00% (4 correct, 0 incorrect, 4 total)\n",
      "NOTE: The loss reported above is the fraction of swapped pairs averaged over\n",
      "      all rankings. The zero/one-error is fraction of perfectly correct\n",
      "      rankings!\n",
      "Total Num Swappedpairs  :      0\n",
      "Avg Swappedpairs Percent:   0.00\n",
      "0.52999997\n",
      "0.42999998\n",
      "0.10799999\n",
      "0.09899999\n"
     ]
    }
   ],
   "source": [
    "#課題4(Ranking SVM)\n",
    "\n",
    "#サンプルファイルとは別のテストデータを用意し，サンプルファイルの訓練データで学習したモデルをそのテストデータに適用してみよ． \n",
    "#また，訓練データを観察し，どのような特徴量をもった文書が上位にランク付けされそうか自分で推測し，\n",
    "#テストデータに対するランキング結果がその自分の推測と近いかどうか考察せよ．\n",
    "\n",
    "#回答：\n",
    "\n",
    "#モデルを訓練する\n",
    "! ../bin/svm_rank_learn -c 0.03 ../data/svmrank_sample/train.dat ../data/svmrank_sample/model\n",
    "\n",
    "#別テストデータ用意し、予測をする：\n",
    "! ../bin/svm_rank_classify ../data/svmrank_sample/test2.dat ../data/svmrank_sample/model ../data/svmrank_sample/prediction\n",
    "!cat ../data/svmrank_sample/prediction\n",
    "\n",
    "\n",
    "#考察：\n",
    "#訓練データを観察したところ、f1とf5が高い文書が上位にランク付けされそうです。\n",
    "#結果：実際、f1とf5が高く設定一行目が一番上位で、\n",
    "#f1とf5を徐々に下げて行きながら他のfを上げていくと、\n",
    "#値が降下していくことが確認されました。"
   ]
  },
  {
   "cell_type": "code",
   "execution_count": null,
   "metadata": {
    "collapsed": true
   },
   "outputs": [],
   "source": []
  },
  {
   "cell_type": "code",
   "execution_count": null,
   "metadata": {
    "collapsed": true
   },
   "outputs": [],
   "source": []
  }
 ],
 "metadata": {
  "kernelspec": {
   "display_name": "Python 3",
   "language": "python",
   "name": "python3"
  },
  "language_info": {
   "codemirror_mode": {
    "name": "ipython",
    "version": 3
   },
   "file_extension": ".py",
   "mimetype": "text/x-python",
   "name": "python",
   "nbconvert_exporter": "python",
   "pygments_lexer": "ipython3",
   "version": "3.5.4"
  }
 },
 "nbformat": 4,
 "nbformat_minor": 0
}
