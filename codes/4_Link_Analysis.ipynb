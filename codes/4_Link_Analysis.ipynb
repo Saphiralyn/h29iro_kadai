{
 "cells": [
  {
   "cell_type": "markdown",
   "metadata": {},
   "source": [
    "# 第4回 リンク解析\n",
    "\n",
    "この演習では，PageRankアルゴリズムの実装例を通して、アルゴリズムの理解を深めることおよび，既存のライブラリを用いてグラフの描画およびPageRankの計算ができることを目的とします．\n",
    "\n",
    "この演習では以下のライブラリを使用します．\n",
    "- [NetworkX](https://networkx.github.io/)\n",
    "   - グラフの生成，分析，描画などグラフに対する各種操作のためのPythonライブラリ\n"
   ]
  },
  {
   "cell_type": "code",
   "execution_count": 1,
   "metadata": {
    "collapsed": true
   },
   "outputs": [],
   "source": [
    "import numpy as np\n",
    "import numpy.linalg as lg\n",
    "import networkx as nx\n",
    "import matplotlib.pyplot as plt"
   ]
  },
  {
   "cell_type": "code",
   "execution_count": 2,
   "metadata": {
    "collapsed": false
   },
   "outputs": [
    {
     "data": {
      "text/plain": [
       "'%.2f'"
      ]
     },
     "execution_count": 2,
     "metadata": {},
     "output_type": "execute_result"
    }
   ],
   "source": [
    "%matplotlib inline\n",
    "%precision 2"
   ]
  },
  {
   "cell_type": "markdown",
   "metadata": {},
   "source": [
    "## 1. PageRankアルゴリズムの実装\n",
    "\n",
    "まずは，べき乗法によるPageRankの計算を実装します．\n",
    "\n",
    "べき乗法に基づくPageRankアルゴリズムは以下のように記述できます． "
   ]
  },
  {
   "cell_type": "code",
   "execution_count": 3,
   "metadata": {
    "collapsed": true
   },
   "outputs": [],
   "source": [
    "def pagerank(A, d = 0.85, eps = 1e-6):\n",
    "    \"\"\"\n",
    "      A: 遷移確率行列\n",
    "      d: damping factor\n",
    "      eps: 誤差（eps以下になれば終了）\n",
    "    \"\"\"\n",
    "    n = A.shape[0]  #ページ数n\n",
    "    e = np.ones(A.shape[0]) #要素が1のn次元ベクトル\n",
    "    p = e  / n #PageRankベクトルの初期化（初期状態分布）\n",
    "    while True: # while Trueとしているが，実際には一定回数以上ループを繰り返すとアルゴリズムを終了するような設計がよい\n",
    "        p_next = d * np.dot(A.T, p) + (1.0 - d) * e / n # PageRankベクトルの更新\n",
    "        if lg.norm(p_next - p, ord=1) <= eps: #差のL1ノルムがeps以下になれば，終了\n",
    "            p = p_next\n",
    "            break\n",
    "        p = p_next\n",
    "    return p"
   ]
  },
  {
   "cell_type": "markdown",
   "metadata": {},
   "source": [
    "では，上記のアルゴリズムを用いて，実際のグラフでPageRankを計算してみましょう．\n",
    "\n",
    "簡単のため，以下のような3ノードの有向グラフ$G$を考えます．"
   ]
  },
  {
   "cell_type": "code",
   "execution_count": 7,
   "metadata": {
    "collapsed": false,
    "scrolled": false
   },
   "outputs": [
    {
     "data": {
      "image/png": "[encoded data removed]",
      "text/plain": [
       "<matplotlib.figure.Figure at 0x10bf07be0>"
      ]
     },
     "metadata": {},
     "output_type": "display_data"
    }
   ],
   "source": [
    "# 有向グラフの描画\n",
    "G = nx.DiGraph()\n",
    "G.add_nodes_from([1,2,3])\n",
    "G.add_edges_from([(1,2),(3,2)])\n",
    "pos = nx.spring_layout(G) # ばねモデルに基づくグラフのレイアウト\n",
    "nx.draw(G, pos, with_labels=True, node_size=500, node_color=\"w\")\n",
    "plt.show()"
   ]
  },
  {
   "cell_type": "markdown",
   "metadata": {},
   "source": [
    "このグラフ$G$に対応する遷移確率行列$A$は下記のように定義できます（「確率行列」となるよう，ページ2に対応する遷移確率の修正を行っている点に注意）．"
   ]
  },
  {
   "cell_type": "code",
   "execution_count": 8,
   "metadata": {
    "collapsed": false,
    "scrolled": false
   },
   "outputs": [
    {
     "data": {
      "text/plain": [
       "array([[ 0.  ,  1.  ,  0.  ],\n",
       "       [ 0.33,  0.33,  0.33],\n",
       "       [ 0.  ,  1.  ,  0.  ]])"
      ]
     },
     "execution_count": 8,
     "metadata": {},
     "output_type": "execute_result"
    }
   ],
   "source": [
    "A = np.array([\n",
    "    [0, 1, 0],\n",
    "    [1/3, 1/3, 1/3],\n",
    "    [0, 1, 0]\n",
    "])\n",
    "A"
   ]
  },
  {
   "cell_type": "markdown",
   "metadata": {},
   "source": [
    "$d = 0.85$, $\\epsilon = 10^{-6}$としたときのPageRankベクトル ${\\mathbf p} = \\{ p_1, p_2, p_3 \\}$ は，以下のように求められます．"
   ]
  },
  {
   "cell_type": "code",
   "execution_count": 9,
   "metadata": {
    "collapsed": false,
    "scrolled": true
   },
   "outputs": [
    {
     "data": {
      "text/plain": [
       "array([ 0.21,  0.57,  0.21])"
      ]
     },
     "execution_count": 9,
     "metadata": {},
     "output_type": "execute_result"
    }
   ],
   "source": [
    "p = pagerank(A, d = 0.85, eps=1e-6)\n",
    "p"
   ]
  },
  {
   "cell_type": "markdown",
   "metadata": {},
   "source": [
    "$p_1=0.21, p_2=0.57,  p_3=0.21$となり，多くの入リンクを持つページ$2$が高いPageRank値を持つであろうという直感と一致することがわかります．"
   ]
  },
  {
   "cell_type": "markdown",
   "metadata": {},
   "source": [
    "## 2. NetworkXを用いたグラフの描画とPageRankの計算\n",
    "\n",
    "Pythonのグラフ処理ライブラリであるNetworkXを使って，グラフの可視化およびPageRank値の計算を行う例を示します．ここでは，講義資料「リンク解析（１）」p12のグラフ例を用います．"
   ]
  },
  {
   "cell_type": "code",
   "execution_count": 10,
   "metadata": {
    "collapsed": true
   },
   "outputs": [],
   "source": [
    "G = nx.DiGraph() #有向グラフの生成\n",
    "G.add_nodes_from([1,2,3,4,5,6]) #ノードの定義\n",
    "G.add_edges_from([(1,2),(1,3), #エッジの定義 (1,2) は ノード1　から　ノード2　へ有向エッジがあることを意味\n",
    "                  (2,1),(2,3),\n",
    "                  (3,2),\n",
    "                  (4,3),(4,5),\n",
    "                  (6,4),(6,5)])"
   ]
  },
  {
   "cell_type": "code",
   "execution_count": 14,
   "metadata": {
    "collapsed": false
   },
   "outputs": [
    {
     "data": {
      "image/png": "[encoded data removed]",
      "text/plain": [
       "<matplotlib.figure.Figure at 0x114d83ac8>"
      ]
     },
     "metadata": {},
     "output_type": "display_data"
    }
   ],
   "source": [
    "pos = nx.spring_layout(G)  #バネモデルでグラフをレイアウト\n",
    "nx.draw(G, pos, with_labels=True, node_size=1000, node_color=\"w\")\n",
    "plt.show()"
   ]
  },
  {
   "cell_type": "markdown",
   "metadata": {},
   "source": [
    "さて，ノード5は出リンクを持たないため，全てのノードにエッジを張り，遷移確率行列を修正します．"
   ]
  },
  {
   "cell_type": "code",
   "execution_count": 15,
   "metadata": {
    "collapsed": true
   },
   "outputs": [],
   "source": [
    "G.add_edges_from([(5,1),(5,2),(5,3),(5,4),(5,5),(5,6)])"
   ]
  },
  {
   "cell_type": "code",
   "execution_count": 18,
   "metadata": {
    "collapsed": false,
    "scrolled": false
   },
   "outputs": [
    {
     "data": {
      "image/png": "[encoded data removed]",
      "text/plain": [
       "<matplotlib.figure.Figure at 0x114f18908>"
      ]
     },
     "metadata": {},
     "output_type": "display_data"
    }
   ],
   "source": [
    "pos = nx.spring_layout(G) \n",
    "nx.draw(G, pos, with_labels=True, node_size=1000, node_color=\"w\")\n",
    "plt.show()"
   ]
  },
  {
   "cell_type": "markdown",
   "metadata": {},
   "source": [
    "では，このグラフに対してNetworkXの機能を用いてPageRankを計算します．NetworkXは各種グラフ解析アルゴリズムを提供しています．たとえば，PageRankやHITSなども実装されています．PageRankを求めるには，NetworkXのpagerank関数を用います．"
   ]
  },
  {
   "cell_type": "code",
   "execution_count": 19,
   "metadata": {
    "collapsed": false
   },
   "outputs": [
    {
     "data": {
      "text/plain": [
       "{1: 0.19, 2: 0.36, 3: 0.29, 4: 0.05, 5: 0.07, 6: 0.04}"
      ]
     },
     "execution_count": 19,
     "metadata": {},
     "output_type": "execute_result"
    }
   ],
   "source": [
    "p = nx.pagerank(G, alpha=0.85, tol=1e-6) # べき乗法によるpagerank計算． 引数 alpha はdamping factor, tol は eps　に対応\n",
    "p"
   ]
  },
  {
   "cell_type": "markdown",
   "metadata": {},
   "source": [
    "NetworkXのpagerank関数は，これ以外にもいくつか種類が用意されています．"
   ]
  },
  {
   "cell_type": "code",
   "execution_count": 20,
   "metadata": {
    "collapsed": false
   },
   "outputs": [
    {
     "data": {
      "text/plain": [
       "{1: 0.19, 2: 0.36, 3: 0.29, 4: 0.05, 5: 0.07, 6: 0.04}"
      ]
     },
     "execution_count": 20,
     "metadata": {},
     "output_type": "execute_result"
    }
   ],
   "source": [
    "p = nx.pagerank_numpy(G,  alpha=0.85) # numpyの固有値計算ライブラリに基づくPageRank計算\n",
    "p"
   ]
  },
  {
   "cell_type": "code",
   "execution_count": 21,
   "metadata": {
    "collapsed": false
   },
   "outputs": [
    {
     "data": {
      "text/plain": [
       "{1: 0.19, 2: 0.36, 3: 0.29, 4: 0.05, 5: 0.07, 6: 0.04}"
      ]
     },
     "execution_count": 21,
     "metadata": {},
     "output_type": "execute_result"
    }
   ],
   "source": [
    "p = nx.pagerank_scipy(G, alpha=0.85) #scipyの疎行列を使ったべき乗法\n",
    "p"
   ]
  },
  {
   "cell_type": "markdown",
   "metadata": {},
   "source": [
    "各種pagerank関数の詳細な仕様については，NetworkXの[pagerank](https://networkx.github.io/documentation/networkx-1.10/reference/generated/networkx.algorithms.link_analysis.pagerank_alg.pagerank.html)などを参照してください．Personalized PageRankも計算できます．"
   ]
  },
  {
   "cell_type": "markdown",
   "metadata": {},
   "source": [
    "----\n",
    "# 演習課題その3 リンク解析\n",
    "\n",
    "## 必須課題（１）PageRankアルゴリズムの確認\n",
    "\n",
    "講義資料「リンク解析（１）」p12のグラフに対して，遷移確率行列が確率行列の性質を満たすよう修正し，\n",
    "べき乗法に基づくPageRankの計算を適用し，結果を報告せよ．ただし，$d = 0.85$とする．また，さまざまな初期状態分布に対してPageRank値を求めることで，異なる初期状態分布に対して同じPageRank値が得られることを確認せよ．\n",
    "\n",
    "## 必須課題（２）定常分布\n",
    "\n",
    "講義で述べたように，マルコフ連鎖が一意の定常分布 ${\\mathbf \\pi}$ を持つためには，そのマルコフ連鎖は既約かつ非周期的である必要がある．そこで，「既約ではあるが非周期的でないマルコフ連鎖」であるようなウェブグラフ$G$を用意し，$G$に対してテレポーテーションを用いない単純なPageRankアルゴリズム（すなわち，${\\mathbf p} = A^{T}{\\mathbf p}$）に基づくべき乗法を適用することで，初期状態分布によってはPageRankベクトルが収束しない場合があることを確認せよ．\n",
    "\n",
    "- 用意したウェブグラフ$G$をNetworkXで可視化すること\n",
    "- 用意したウェブグラフ$G$は，講義で使用した例とは異なる例を用いること\n",
    "\n",
    "## 任意課題（１）Personalzied PageRank\n",
    "\n",
    "Personalized (Biased) PageRankアルゴリズムを実装し， 必須課題（１）で用いたグラフに対して適用し，結果がどのように異なるか報告せよ．\n",
    "\n",
    "\n",
    "## 任意課題（２） 実データに対するPageRank計算\n",
    "\n",
    "ノード数が1万件を超えるような実グラフデータを各自で用意し，PageRankを求め結果を簡潔に報告せよ．\n",
    " - グラフの可視化を行うかどうかは自由\n",
    " - 極めて大規模なグラフに対してPageRankを求める場合は，NetworkXのpagerank_scipy関数等の使用を検討するとよい\n",
    " \n",
    "## 任意課題（３） その他リンク解析アルゴリズムの実装\n",
    "\n",
    "HITS，TextRank， あるいはVisualRankアルゴリズムを実装せよ．適宜データを用意し，実装したアルゴリズムをそのデータに適用し結果を報告せよ．\n",
    "\n",
    "# 課題の提出方法\n",
    "\n",
    "いずれかの方法で，ipython notebookのページ（.ipynbファイル）とそのhtml版を提出すること．\n",
    "\n",
    "1. 添付ファイルで山本に送信．\n",
    "   - 送付先 tyamamot at dl.kuis.kyoto-u.ac.jp\n",
    "2. 各自のgithubやgithub gistにアップロードし，そのURLを山本に送信．この場合はhtml版を用意する必要はない．\n",
    "3. 上記以外で，山本が実際に.ipynbファイルを確認できる方法．\n",
    "\n",
    "\n",
    "# 締切\n",
    "\n",
    "- 2017年1月31日（水）23:59\n",
    "- 締切に関する個別の相談は``受け付けます``．"
   ]
  }
 ],
 "metadata": {
  "kernelspec": {
   "display_name": "Python 3",
   "language": "python",
   "name": "python3"
  },
  "language_info": {
   "codemirror_mode": {
    "name": "ipython",
    "version": 3
   },
   "file_extension": ".py",
   "mimetype": "text/x-python",
   "name": "python",
   "nbconvert_exporter": "python",
   "pygments_lexer": "ipython3",
   "version": "3.5.4"
  }
 },
 "nbformat": 4,
 "nbformat_minor": 1
}
